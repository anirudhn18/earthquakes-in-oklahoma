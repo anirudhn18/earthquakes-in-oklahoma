{
 "cells": [
  {
   "cell_type": "code",
   "execution_count": 1,
   "metadata": {
    "collapsed": false
   },
   "outputs": [],
   "source": [
    "from pandas import Series, DataFrame\n",
    "import pandas as pd\n",
    "\n",
    "import numpy as np\n",
    "\n",
    "import matplotlib.pyplot as plt\n",
    "\n",
    "# import plotly.plotly as py\n",
    "# import plotly.tools as tls\n",
    "\n",
    "%matplotlib inline\n",
    "\n",
    "eq_data = pd.read_csv('../Files/processed-data/completeEarthquakeFreq.csv',squeeze = True,index_col=1, parse_dates = True)\n",
    "\n",
    "eq_data['YEAR'] = eq_data.index.year\n"
   ]
  },
  {
   "cell_type": "code",
   "execution_count": 2,
   "metadata": {
    "collapsed": false,
    "scrolled": true
   },
   "outputs": [
    {
     "data": {
      "image/png": "[encoded data removed]",
      "text/plain": [
       "<matplotlib.figure.Figure at 0x4594a20>"
      ]
     },
     "metadata": {},
     "output_type": "display_data"
    }
   ],
   "source": [
    "# Graph of year and number of earthquakes according to years\n",
    "\n",
    "eq_freq = eq_data[['YEAR','id']]\n",
    "\n",
    "# print eq_freq[eq_freq['YEAR'] == 1995]\n",
    "\n",
    "# eq_freq = eq_freq[eq_freq.max_mmi !=0]\n",
    "eq_freq = eq_freq[eq_freq.YEAR != 2016]\n",
    "eq_freq = eq_freq[eq_freq.YEAR > 1970]\n",
    "\n",
    "eq_freq = eq_freq.groupby('YEAR').count()\n",
    "\n",
    "eq_freq.plot(legend=None)\n",
    "plt.ylabel(\"No of earthquakes\")\n",
    "plt.show()"
   ]
  },
  {
   "cell_type": "code",
   "execution_count": 3,
   "metadata": {
    "collapsed": false
   },
   "outputs": [],
   "source": [
    "eq_data_other = pd.read_csv('../Files/earthquake_data.txt',squeeze = True)"
   ]
  },
  {
   "cell_type": "code",
   "execution_count": 4,
   "metadata": {
    "collapsed": false
   },
   "outputs": [
    {
     "data": {
      "image/png": "[encoded data removed]",
      "text/plain": [
       "<matplotlib.figure.Figure at 0xaac4c18>"
      ]
     },
     "metadata": {},
     "output_type": "display_data"
    }
   ],
   "source": [
    "# No of earthquakes in different county's from 2004-2015\n",
    "\n",
    "eq_freq = eq_data[['YEAR','county']]\n",
    "\n",
    "# eq_freq = eq_freq[eq_freq.max_mmi !=0]\n",
    "eq_freq = eq_freq[eq_freq.YEAR != 2016]\n",
    "eq_freq = eq_freq[eq_freq.YEAR > 2004]\n",
    "\n",
    "eq_freq = eq_freq.groupby(['county']).count()\n",
    "\n",
    "# Get the top counties having more than 100 earthquakes\n",
    "eq_freq = eq_freq[eq_freq['YEAR'] > 100]\n",
    "\n",
    "eq_freq = eq_freq.sort_values(by='YEAR',ascending = False)\n",
    "\n",
    "eq_freq.plot(kind='bar',legend=None)\n",
    "plt.ylabel(\"No of earthquakes\")\n",
    "plt.savefig('../Plots/eq-by-county.png')"
   ]
  },
  {
   "cell_type": "code",
   "execution_count": 5,
   "metadata": {
    "collapsed": false
   },
   "outputs": [],
   "source": [
    "import plotly \n",
    "plotly.tools.set_credentials_file(username='eshishir', api_key='rssfjn1aez')"
   ]
  },
  {
   "cell_type": "code",
   "execution_count": 6,
   "metadata": {
    "collapsed": false
   },
   "outputs": [
    {
     "name": "stdout",
     "output_type": "stream",
     "text": [
      "High five! You successfuly sent some data to your account on plotly. View your plot in your browser at https://plot.ly/~eshishir/0 or inside your plot.ly account where it is named 'd3-earthquakes66'\n"
     ]
    },
    {
     "data": {
      "text/html": [
       "<iframe id=\"igraph\" scrolling=\"no\" style=\"border:none;\" seamless=\"seamless\" src=\"https://plot.ly/~eshishir/0.embed\" height=\"525px\" width=\"100%\"></iframe>"
      ],
      "text/plain": [
       "<plotly.tools.PlotlyDisplay object>"
      ]
     },
     "execution_count": 6,
     "metadata": {},
     "output_type": "execute_result"
    }
   ],
   "source": [
    "eq_other_freq = eq_data_other.replace('NaN',0)\n",
    "\n",
    "eq_other_freq['Year'] = pd.DatetimeIndex(eq_other_freq['DateTime']).year\n",
    "\n",
    "eq_other_freq = eq_other_freq[eq_other_freq['Year'] > 1965]\n",
    "eq_other_freq = eq_other_freq[eq_other_freq['Year'] <= 1970]\n",
    "\n",
    "\n",
    "import plotly.plotly as py\n",
    "import pandas as pd\n",
    "\n",
    "df = eq_other_freq\n",
    "df.head()\n",
    "\n",
    "df['text'] = df['DateTime'].astype(str) + \" \" + df['Magnitude'].astype(str)\n",
    "\n",
    "scl = [ [0,\"rgb(172, 10, 5)\"],[0.35,\"rgb(190, 60, 40)\"],[0.5,\"rgb(245, 100, 70)\"],\\\n",
    "    [0.6,\"rgb(245, 120, 90)\"],[0.7,\"rgb(247, 137, 106)\"],[1,\"rgb(220, 220, 220)\"] ]\n",
    "\n",
    "data = [ dict(\n",
    "        type = 'scattergeo',\n",
    "        locationmode = 'USA-states',\n",
    "        lon = df['Longitude'],\n",
    "        lat = df['Latitude'],\n",
    "        text = df['text'],\n",
    "        mode = 'markers',\n",
    "        marker = dict( \n",
    "            size = 8, \n",
    "            opacity = 0.8,\n",
    "            reversescale = True,\n",
    "            autocolorscale = False,\n",
    "            symbol = 'square',\n",
    "            line = dict(\n",
    "                width=1,\n",
    "                color='rgba(102, 102, 102)'\n",
    "            ),\n",
    "            colorscale = scl,\n",
    "            cmin = 0,\n",
    "            color = df['Magnitude'],\n",
    "            cmax = df['Magnitude'].max(),\n",
    "            colorbar=dict(\n",
    "                title=\"Magnitude of Earthquake\"\n",
    "            )\n",
    "        ))]\n",
    "\n",
    "layout = dict(\n",
    "        title = 'Earthquake magnitudes in {} - {}'.format(min(eq_other_freq['Year']),max(eq_other_freq['Year'])),\n",
    "        colorbar = True,   \n",
    "        geo = dict(\n",
    "            scope='usa',\n",
    "            projection=dict(type='albers usa',scale=7),\n",
    "            showland = True,\n",
    "            landcolor = \"rgb(250, 250, 250)\",\n",
    "            subunitcolor = \"rgb(102, 102, 102)\",\n",
    "            countrycolor = \"rgb(102, 102, 102)\",\n",
    "            countrywidth = 0.5,\n",
    "            subunitwidth = 0.5        \n",
    "        ),\n",
    "    )\n",
    "\n",
    "fig = dict( data=data, layout=layout )\n",
    "py.iplot( fig, validate=False, filename='d3-earthquakes66' )"
   ]
  },
  {
   "cell_type": "code",
   "execution_count": 7,
   "metadata": {
    "collapsed": false
   },
   "outputs": [
    {
     "data": {
      "text/html": [
       "<iframe id=\"igraph\" scrolling=\"no\" style=\"border:none;\" seamless=\"seamless\" src=\"https://plot.ly/~eshishir/2.embed\" height=\"525px\" width=\"100%\"></iframe>"
      ],
      "text/plain": [
       "<plotly.tools.PlotlyDisplay object>"
      ]
     },
     "execution_count": 7,
     "metadata": {},
     "output_type": "execute_result"
    }
   ],
   "source": [
    "eq_other_freq = eq_data_other.replace('NaN',0)\n",
    "\n",
    "eq_other_freq['Year'] = pd.DatetimeIndex(eq_other_freq['DateTime']).year\n",
    "\n",
    "eq_other_freq = eq_other_freq[eq_other_freq['Year'] > 1970]\n",
    "eq_other_freq = eq_other_freq[eq_other_freq['Year'] <= 1975]\n",
    "\n",
    "import plotly.plotly as py\n",
    "import pandas as pd\n",
    "\n",
    "df = eq_other_freq\n",
    "df.head()\n",
    "\n",
    "df['text'] = df['DateTime'].astype(str) + \" \" + df['Magnitude'].astype(str)\n",
    "\n",
    "scl = [ [0,\"rgb(172, 10, 5)\"],[0.35,\"rgb(190, 60, 40)\"],[0.5,\"rgb(245, 100, 70)\"],\\\n",
    "    [0.6,\"rgb(245, 120, 90)\"],[0.7,\"rgb(247, 137, 106)\"],[1,\"rgb(220, 220, 220)\"] ]\n",
    "\n",
    "data = [ dict(\n",
    "        type = 'scattergeo',\n",
    "        locationmode = 'USA-states',\n",
    "        lon = df['Longitude'],\n",
    "        lat = df['Latitude'],\n",
    "        text = df['text'],\n",
    "        mode = 'markers',\n",
    "        marker = dict( \n",
    "            size = 8, \n",
    "            opacity = 0.8,\n",
    "            reversescale = True,\n",
    "            autocolorscale = False,\n",
    "            symbol = 'square',\n",
    "            line = dict(\n",
    "                width=1,\n",
    "                color='rgba(102, 102, 102)'\n",
    "            ),\n",
    "            colorscale = scl,\n",
    "            cmin = 0,\n",
    "            color = df['Magnitude'],\n",
    "            cmax = df['Magnitude'].max(),\n",
    "            colorbar=dict(\n",
    "                title=\"Magnitude of Earthquake\"\n",
    "            )\n",
    "        ))]\n",
    "\n",
    "layout = dict(\n",
    "        title = 'Earthquake magnitudes in {} - {}'.format(min(eq_other_freq['Year']),max(eq_other_freq['Year'])),\n",
    "        colorbar = True,   \n",
    "        geo = dict(\n",
    "            scope='usa',\n",
    "            projection=dict(type='albers usa',scale=7),\n",
    "            showland = True,\n",
    "            landcolor = \"rgb(250, 250, 250)\",\n",
    "            subunitcolor = \"rgb(102, 102, 102)\",\n",
    "            countrycolor = \"rgb(102, 102, 102)\",\n",
    "            countrywidth = 0.5,\n",
    "            subunitwidth = 0.5        \n",
    "        ),\n",
    "    )\n",
    "\n",
    "fig = dict( data=data, layout=layout )\n",
    "py.iplot( fig, validate=False, filename='d3-earthquakes74-75' )"
   ]
  },
  {
   "cell_type": "code",
   "execution_count": 8,
   "metadata": {
    "collapsed": false
   },
   "outputs": [
    {
     "data": {
      "text/html": [
       "<iframe id=\"igraph\" scrolling=\"no\" style=\"border:none;\" seamless=\"seamless\" src=\"https://plot.ly/~eshishir/4.embed\" height=\"525px\" width=\"100%\"></iframe>"
      ],
      "text/plain": [
       "<plotly.tools.PlotlyDisplay object>"
      ]
     },
     "execution_count": 8,
     "metadata": {},
     "output_type": "execute_result"
    }
   ],
   "source": [
    "eq_other_freq = eq_data_other.replace('NaN',0)\n",
    "\n",
    "eq_other_freq['Year'] = pd.DatetimeIndex(eq_other_freq['DateTime']).year\n",
    "\n",
    "eq_other_freq = eq_other_freq[eq_other_freq['Year'] > 1975]\n",
    "eq_other_freq = eq_other_freq[eq_other_freq['Year'] <= 1980]\n",
    "\n",
    "import plotly.plotly as py\n",
    "import pandas as pd\n",
    "\n",
    "df = eq_other_freq\n",
    "df.head()\n",
    "\n",
    "df['text'] = df['DateTime'].astype(str) + \" \" + df['Magnitude'].astype(str)\n",
    "\n",
    "scl = [ [0,\"rgb(172, 10, 5)\"],[0.35,\"rgb(190, 60, 40)\"],[0.5,\"rgb(245, 100, 70)\"],\\\n",
    "    [0.6,\"rgb(245, 120, 90)\"],[0.7,\"rgb(247, 137, 106)\"],[1,\"rgb(220, 220, 220)\"] ]\n",
    "\n",
    "data = [ dict(\n",
    "        type = 'scattergeo',\n",
    "        locationmode = 'USA-states',\n",
    "        lon = df['Longitude'],\n",
    "        lat = df['Latitude'],\n",
    "        text = df['text'],\n",
    "        mode = 'markers',\n",
    "        marker = dict( \n",
    "            size = 8, \n",
    "            opacity = 0.8,\n",
    "            reversescale = True,\n",
    "            autocolorscale = False,\n",
    "            symbol = 'square',\n",
    "            line = dict(\n",
    "                width=1,\n",
    "                color='rgba(102, 102, 102)'\n",
    "            ),\n",
    "            colorscale = scl,\n",
    "            cmin = 0,\n",
    "            color = df['Magnitude'],\n",
    "            cmax = df['Magnitude'].max(),\n",
    "            colorbar=dict(\n",
    "                title=\"Magnitude of Earthquake\"\n",
    "            )\n",
    "        ))]\n",
    "\n",
    "layout = dict(\n",
    "        title = 'Earthquake magnitudes in {} - {}'.format(min(eq_other_freq['Year']),max(eq_other_freq['Year'])),\n",
    "        colorbar = True,   \n",
    "        geo = dict(\n",
    "            scope='usa',\n",
    "            projection=dict(type='albers usa',scale=7),\n",
    "            showland = True,\n",
    "            landcolor = \"rgb(250, 250, 250)\",\n",
    "            subunitcolor = \"rgb(102, 102, 102)\",\n",
    "            countrycolor = \"rgb(102, 102, 102)\",\n",
    "            countrywidth = 0.5,\n",
    "            subunitwidth = 0.5        \n",
    "        ),\n",
    "    )\n",
    "\n",
    "fig = dict( data=data, layout=layout )\n",
    "py.iplot( fig, validate=False, filename='d3-earthquakes76-80' )"
   ]
  },
  {
   "cell_type": "code",
   "execution_count": 9,
   "metadata": {
    "collapsed": false
   },
   "outputs": [
    {
     "data": {
      "text/html": [
       "<iframe id=\"igraph\" scrolling=\"no\" style=\"border:none;\" seamless=\"seamless\" src=\"https://plot.ly/~eshishir/12.embed\" height=\"525px\" width=\"100%\"></iframe>"
      ],
      "text/plain": [
       "<plotly.tools.PlotlyDisplay object>"
      ]
     },
     "execution_count": 9,
     "metadata": {},
     "output_type": "execute_result"
    }
   ],
   "source": [
    "eq_other_freq = eq_data_other.replace('NaN',0)\n",
    "\n",
    "eq_other_freq['Year'] = pd.DatetimeIndex(eq_other_freq['DateTime']).year\n",
    "\n",
    "eq_other_freq = eq_other_freq[eq_other_freq['Year'] > 1980]\n",
    "eq_other_freq = eq_other_freq[eq_other_freq['Year'] <= 1985]\n",
    "\n",
    "import plotly.plotly as py\n",
    "import pandas as pd\n",
    "\n",
    "df = eq_other_freq\n",
    "df.head()\n",
    "\n",
    "df['text'] = df['DateTime'].astype(str) + \" \" + df['Magnitude'].astype(str)\n",
    "\n",
    "scl = [ [0,\"rgb(172, 10, 5)\"],[0.35,\"rgb(190, 60, 40)\"],[0.5,\"rgb(245, 100, 70)\"],\\\n",
    "    [0.6,\"rgb(245, 120, 90)\"],[0.7,\"rgb(247, 137, 106)\"],[1,\"rgb(220, 220, 220)\"] ]\n",
    "\n",
    "data = [ dict(\n",
    "        type = 'scattergeo',\n",
    "        locationmode = 'USA-states',\n",
    "        lon = df['Longitude'],\n",
    "        lat = df['Latitude'],\n",
    "        text = df['text'],\n",
    "        mode = 'markers',\n",
    "        marker = dict( \n",
    "            size = 8, \n",
    "            opacity = 0.8,\n",
    "            reversescale = True,\n",
    "            autocolorscale = False,\n",
    "            symbol = 'square',\n",
    "            line = dict(\n",
    "                width=1,\n",
    "                color='rgba(102, 102, 102)'\n",
    "            ),\n",
    "            colorscale = scl,\n",
    "            cmin = 0,\n",
    "            color = df['Magnitude'],\n",
    "            cmax = df['Magnitude'].max(),\n",
    "            colorbar=dict(\n",
    "                title=\"Magnitude of Earthquake\"\n",
    "            )\n",
    "        ))]\n",
    "\n",
    "layout = dict(\n",
    "        title = 'Earthquake magnitudes in {} - {}'.format(min(eq_other_freq['Year']),max(eq_other_freq['Year'])),\n",
    "        colorbar = True,   \n",
    "        geo = dict(\n",
    "            scope='usa',\n",
    "            projection=dict(type='albers usa',scale=7),\n",
    "            showland = True,\n",
    "            landcolor = \"rgb(250, 250, 250)\",\n",
    "            subunitcolor = \"rgb(102, 102, 102)\",\n",
    "            countrycolor = \"rgb(102, 102, 102)\",\n",
    "            countrywidth = 0.5,\n",
    "            subunitwidth = 0.5        \n",
    "        ),\n",
    "    )\n",
    "\n",
    "fig = dict( data=data, layout=layout )\n",
    "py.iplot( fig, validate=False, filename='d3-earthquakes81-85' )"
   ]
  },
  {
   "cell_type": "code",
   "execution_count": 10,
   "metadata": {
    "collapsed": false
   },
   "outputs": [
    {
     "data": {
      "text/html": [
       "<iframe id=\"igraph\" scrolling=\"no\" style=\"border:none;\" seamless=\"seamless\" src=\"https://plot.ly/~eshishir/6.embed\" height=\"525px\" width=\"100%\"></iframe>"
      ],
      "text/plain": [
       "<plotly.tools.PlotlyDisplay object>"
      ]
     },
     "execution_count": 10,
     "metadata": {},
     "output_type": "execute_result"
    }
   ],
   "source": [
    "eq_other_freq = eq_data_other.replace('NaN',0)\n",
    "\n",
    "eq_other_freq['Year'] = pd.DatetimeIndex(eq_other_freq['DateTime']).year\n",
    "\n",
    "eq_other_freq = eq_other_freq[eq_other_freq['Year'] > 1985]\n",
    "eq_other_freq = eq_other_freq[eq_other_freq['Year'] <= 1990]\n",
    "\n",
    "import plotly.plotly as py\n",
    "import pandas as pd\n",
    "\n",
    "df = eq_other_freq\n",
    "df.head()\n",
    "\n",
    "df['text'] = df['DateTime'].astype(str) + \" \" + df['Magnitude'].astype(str)\n",
    "\n",
    "scl = [ [0,\"rgb(172, 10, 5)\"],[0.35,\"rgb(190, 60, 40)\"],[0.5,\"rgb(245, 100, 70)\"],\\\n",
    "    [0.6,\"rgb(245, 120, 90)\"],[0.7,\"rgb(247, 137, 106)\"],[1,\"rgb(220, 220, 220)\"] ]\n",
    "\n",
    "data = [ dict(\n",
    "        type = 'scattergeo',\n",
    "        locationmode = 'USA-states',\n",
    "        lon = df['Longitude'],\n",
    "        lat = df['Latitude'],\n",
    "        text = df['text'],\n",
    "        mode = 'markers',\n",
    "        marker = dict( \n",
    "            size = 8, \n",
    "            opacity = 0.8,\n",
    "            reversescale = True,\n",
    "            autocolorscale = False,\n",
    "            symbol = 'square',\n",
    "            line = dict(\n",
    "                width=1,\n",
    "                color='rgba(102, 102, 102)'\n",
    "            ),\n",
    "            colorscale = scl,\n",
    "            cmin = 0,\n",
    "            color = df['Magnitude'],\n",
    "            cmax = df['Magnitude'].max(),\n",
    "            colorbar=dict(\n",
    "                title=\"Magnitude of Earthquake\"\n",
    "            )\n",
    "        ))]\n",
    "\n",
    "layout = dict(\n",
    "        title = 'Earthquake magnitudes in {} - {}'.format(min(eq_other_freq['Year']),max(eq_other_freq['Year'])),\n",
    "        colorbar = True,   \n",
    "        geo = dict(\n",
    "            scope='usa',\n",
    "            projection=dict(type='albers usa',scale=7),\n",
    "            showland = True,\n",
    "            landcolor = \"rgb(250, 250, 250)\",\n",
    "            subunitcolor = \"rgb(102, 102, 102)\",\n",
    "            countrycolor = \"rgb(102, 102, 102)\",\n",
    "            countrywidth = 0.5,\n",
    "            subunitwidth = 0.5        \n",
    "        ),\n",
    "    )\n",
    "\n",
    "fig = dict( data=data, layout=layout )\n",
    "py.iplot( fig, validate=False, filename='d3-earthquakes85-90' )"
   ]
  },
  {
   "cell_type": "code",
   "execution_count": 11,
   "metadata": {
    "collapsed": false
   },
   "outputs": [
    {
     "data": {
      "text/html": [
       "<iframe id=\"igraph\" scrolling=\"no\" style=\"border:none;\" seamless=\"seamless\" src=\"https://plot.ly/~eshishir/8.embed\" height=\"525px\" width=\"100%\"></iframe>"
      ],
      "text/plain": [
       "<plotly.tools.PlotlyDisplay object>"
      ]
     },
     "execution_count": 11,
     "metadata": {},
     "output_type": "execute_result"
    }
   ],
   "source": [
    "eq_other_freq = eq_data_other.replace('NaN',0)\n",
    "\n",
    "eq_other_freq['Year'] = pd.DatetimeIndex(eq_other_freq['DateTime']).year\n",
    "\n",
    "eq_other_freq = eq_other_freq[eq_other_freq['Year'] > 1990]\n",
    "eq_other_freq = eq_other_freq[eq_other_freq['Year'] <= 1995]\n",
    "\n",
    "import plotly.plotly as py\n",
    "import pandas as pd\n",
    "\n",
    "df = eq_other_freq\n",
    "df.head()\n",
    "\n",
    "df['text'] = df['DateTime'].astype(str) + \" \" + df['Magnitude'].astype(str)\n",
    "\n",
    "scl = [ [0,\"rgb(172, 10, 5)\"],[0.35,\"rgb(190, 60, 40)\"],[0.5,\"rgb(245, 100, 70)\"],\\\n",
    "    [0.6,\"rgb(245, 120, 90)\"],[0.7,\"rgb(247, 137, 106)\"],[1,\"rgb(220, 220, 220)\"] ]\n",
    "\n",
    "data = [ dict(\n",
    "        type = 'scattergeo',\n",
    "        locationmode = 'USA-states',\n",
    "        lon = df['Longitude'],\n",
    "        lat = df['Latitude'],\n",
    "        text = df['text'],\n",
    "        mode = 'markers',\n",
    "        marker = dict( \n",
    "            size = 8, \n",
    "            opacity = 0.8,\n",
    "            reversescale = True,\n",
    "            autocolorscale = False,\n",
    "            symbol = 'square',\n",
    "            line = dict(\n",
    "                width=1,\n",
    "                color='rgba(102, 102, 102)'\n",
    "            ),\n",
    "            colorscale = scl,\n",
    "            cmin = 0,\n",
    "            color = df['Magnitude'],\n",
    "            cmax = df['Magnitude'].max(),\n",
    "            colorbar=dict(\n",
    "                title=\"Magnitude of Earthquake\"\n",
    "            )\n",
    "        ))]\n",
    "\n",
    "layout = dict(\n",
    "        title = 'Earthquake magnitudes in {} - {}'.format(min(eq_other_freq['Year']),max(eq_other_freq['Year'])),\n",
    "        colorbar = True,   \n",
    "        geo = dict(\n",
    "            scope='usa',\n",
    "            projection=dict(type='albers usa',scale=7),\n",
    "            showland = True,\n",
    "            landcolor = \"rgb(250, 250, 250)\",\n",
    "            subunitcolor = \"rgb(102, 102, 102)\",\n",
    "            countrycolor = \"rgb(102, 102, 102)\",\n",
    "            countrywidth = 0.5,\n",
    "            subunitwidth = 0.5        \n",
    "        ),\n",
    "    )\n",
    "\n",
    "fig = dict( data=data, layout=layout )\n",
    "py.iplot( fig, validate=False, filename='d3-earthquakes91-95' )"
   ]
  },
  {
   "cell_type": "code",
   "execution_count": 12,
   "metadata": {
    "collapsed": false
   },
   "outputs": [
    {
     "data": {
      "text/html": [
       "<iframe id=\"igraph\" scrolling=\"no\" style=\"border:none;\" seamless=\"seamless\" src=\"https://plot.ly/~eshishir/10.embed\" height=\"525px\" width=\"100%\"></iframe>"
      ],
      "text/plain": [
       "<plotly.tools.PlotlyDisplay object>"
      ]
     },
     "execution_count": 12,
     "metadata": {},
     "output_type": "execute_result"
    }
   ],
   "source": [
    "eq_other_freq = eq_data_other.replace('NaN',0)\n",
    "\n",
    "eq_other_freq['Year'] = pd.DatetimeIndex(eq_other_freq['DateTime']).year\n",
    "\n",
    "eq_other_freq = eq_other_freq[eq_other_freq['Year'] > 1995]\n",
    "eq_other_freq = eq_other_freq[eq_other_freq['Year'] <= 2000]\n",
    "\n",
    "import plotly.plotly as py\n",
    "import pandas as pd\n",
    "\n",
    "df = eq_other_freq\n",
    "df.head()\n",
    "\n",
    "df['text'] = df['DateTime'].astype(str) + \" \" + df['Magnitude'].astype(str)\n",
    "\n",
    "scl = [ [0,\"rgb(172, 10, 5)\"],[0.35,\"rgb(190, 60, 40)\"],[0.5,\"rgb(245, 100, 70)\"],\\\n",
    "    [0.6,\"rgb(245, 120, 90)\"],[0.7,\"rgb(247, 137, 106)\"],[1,\"rgb(220, 220, 220)\"] ]\n",
    "\n",
    "data = [ dict(\n",
    "        type = 'scattergeo',\n",
    "        locationmode = 'USA-states',\n",
    "        lon = df['Longitude'],\n",
    "        lat = df['Latitude'],\n",
    "        text = df['text'],\n",
    "        mode = 'markers',\n",
    "        marker = dict( \n",
    "            size = 8, \n",
    "            opacity = 0.8,\n",
    "            reversescale = True,\n",
    "            autocolorscale = False,\n",
    "            symbol = 'square',\n",
    "            line = dict(\n",
    "                width=1,\n",
    "                color='rgba(102, 102, 102)'\n",
    "            ),\n",
    "            colorscale = scl,\n",
    "            cmin = 0,\n",
    "            color = df['Magnitude'],\n",
    "            cmax = df['Magnitude'].max(),\n",
    "            colorbar=dict(\n",
    "                title=\"Magnitude of Earthquake\"\n",
    "            )\n",
    "        ))]\n",
    "\n",
    "layout = dict(\n",
    "        title = 'Earthquake magnitudes in {} - {}'.format(min(eq_other_freq['Year']),max(eq_other_freq['Year'])),\n",
    "        colorbar = True,   \n",
    "        geo = dict(\n",
    "            scope='usa',\n",
    "            projection=dict(type='albers usa',scale=7),\n",
    "            showland = True,\n",
    "            landcolor = \"rgb(250, 250, 250)\",\n",
    "            subunitcolor = \"rgb(102, 102, 102)\",\n",
    "            countrycolor = \"rgb(102, 102, 102)\",\n",
    "            countrywidth = 0.5,\n",
    "            subunitwidth = 0.5        \n",
    "        ),\n",
    "    )\n",
    "\n",
    "fig = dict( data=data, layout=layout )\n",
    "py.iplot( fig, validate=False, filename='d3-earthquakes96-2000' )"
   ]
  },
  {
   "cell_type": "code",
   "execution_count": 13,
   "metadata": {
    "collapsed": false
   },
   "outputs": [
    {
     "data": {
      "text/html": [
       "<iframe id=\"igraph\" scrolling=\"no\" style=\"border:none;\" seamless=\"seamless\" src=\"https://plot.ly/~eshishir/14.embed\" height=\"525px\" width=\"100%\"></iframe>"
      ],
      "text/plain": [
       "<plotly.tools.PlotlyDisplay object>"
      ]
     },
     "execution_count": 13,
     "metadata": {},
     "output_type": "execute_result"
    }
   ],
   "source": [
    "eq_other_freq = eq_data_other.replace('NaN',0)\n",
    "\n",
    "eq_other_freq['Year'] = pd.DatetimeIndex(eq_other_freq['DateTime']).year\n",
    "\n",
    "eq_other_freq = eq_other_freq[eq_other_freq['Year'] > 2000]\n",
    "eq_other_freq = eq_other_freq[eq_other_freq['Year'] <= 2005]\n",
    "\n",
    "import plotly.plotly as py\n",
    "import pandas as pd\n",
    "\n",
    "df = eq_other_freq\n",
    "df.head()\n",
    "\n",
    "df['text'] = df['DateTime'].astype(str) + \" \" + df['Magnitude'].astype(str)\n",
    "\n",
    "scl = [ [0,\"rgb(172, 10, 5)\"],[0.35,\"rgb(190, 60, 40)\"],[0.5,\"rgb(245, 100, 70)\"],\\\n",
    "    [0.6,\"rgb(245, 120, 90)\"],[0.7,\"rgb(247, 137, 106)\"],[1,\"rgb(220, 220, 220)\"] ]\n",
    "\n",
    "data = [ dict(\n",
    "        type = 'scattergeo',\n",
    "        locationmode = 'USA-states',\n",
    "        lon = df['Longitude'],\n",
    "        lat = df['Latitude'],\n",
    "        text = df['text'],\n",
    "        mode = 'markers',\n",
    "        marker = dict( \n",
    "            size = 8, \n",
    "            opacity = 0.8,\n",
    "            reversescale = True,\n",
    "            autocolorscale = False,\n",
    "            symbol = 'square',\n",
    "            line = dict(\n",
    "                width=1,\n",
    "                color='rgba(102, 102, 102)'\n",
    "            ),\n",
    "            colorscale = scl,\n",
    "            cmin = 0,\n",
    "            color = df['Magnitude'],\n",
    "            cmax = df['Magnitude'].max(),\n",
    "            colorbar=dict(\n",
    "                title=\"Magnitude of Earthquake\"\n",
    "            )\n",
    "        ))]\n",
    "\n",
    "layout = dict(\n",
    "        title = 'Earthquake magnitudes in {} - {}'.format(min(eq_other_freq['Year']),max(eq_other_freq['Year'])),\n",
    "        colorbar = True,   \n",
    "        geo = dict(\n",
    "            scope='usa',\n",
    "            projection=dict(type='albers usa',scale=7),\n",
    "            showland = True,\n",
    "            landcolor = \"rgb(250, 250, 250)\",\n",
    "            subunitcolor = \"rgb(102, 102, 102)\",\n",
    "            countrycolor = \"rgb(102, 102, 102)\",\n",
    "            countrywidth = 0.5,\n",
    "            subunitwidth = 0.5        \n",
    "        ),\n",
    "    )\n",
    "\n",
    "fig = dict( data=data, layout=layout )\n",
    "py.iplot( fig, validate=False, filename='d3-earthquakes2002-05' )"
   ]
  },
  {
   "cell_type": "code",
   "execution_count": 14,
   "metadata": {
    "collapsed": false
   },
   "outputs": [
    {
     "data": {
      "text/html": [
       "<iframe id=\"igraph\" scrolling=\"no\" style=\"border:none;\" seamless=\"seamless\" src=\"https://plot.ly/~eshishir/16.embed\" height=\"525px\" width=\"100%\"></iframe>"
      ],
      "text/plain": [
       "<plotly.tools.PlotlyDisplay object>"
      ]
     },
     "execution_count": 14,
     "metadata": {},
     "output_type": "execute_result"
    }
   ],
   "source": [
    "eq_other_freq = eq_data_other.replace('NaN',0)\n",
    "\n",
    "eq_other_freq['Year'] = pd.DatetimeIndex(eq_other_freq['DateTime']).year\n",
    "\n",
    "eq_other_freq = eq_other_freq[eq_other_freq['Year'] > 2005]\n",
    "eq_other_freq = eq_other_freq[eq_other_freq['Year'] <= 2010]\n",
    "\n",
    "import plotly.plotly as py\n",
    "import pandas as pd\n",
    "\n",
    "df = eq_other_freq\n",
    "df.head()\n",
    "\n",
    "df['text'] = df['DateTime'].astype(str) + \" \" + df['Magnitude'].astype(str)\n",
    "\n",
    "scl = [ [0,\"rgb(172, 10, 5)\"],[0.35,\"rgb(190, 60, 40)\"],[0.5,\"rgb(245, 100, 70)\"],\\\n",
    "    [0.6,\"rgb(245, 120, 90)\"],[0.7,\"rgb(247, 137, 106)\"],[1,\"rgb(220, 220, 220)\"] ]\n",
    "\n",
    "data = [ dict(\n",
    "        type = 'scattergeo',\n",
    "        locationmode = 'USA-states',\n",
    "        lon = df['Longitude'],\n",
    "        lat = df['Latitude'],\n",
    "        text = df['text'],\n",
    "        mode = 'markers',\n",
    "        marker = dict( \n",
    "            size = 8, \n",
    "            opacity = 0.8,\n",
    "            reversescale = True,\n",
    "            autocolorscale = False,\n",
    "            symbol = 'square',\n",
    "            line = dict(\n",
    "                width=1,\n",
    "                color='rgba(102, 102, 102)'\n",
    "            ),\n",
    "            colorscale = scl,\n",
    "            cmin = 0,\n",
    "            color = df['Magnitude'],\n",
    "            cmax = df['Magnitude'].max(),\n",
    "            colorbar=dict(\n",
    "                title=\"Magnitude of Earthquake\"\n",
    "            )\n",
    "        ))]\n",
    "\n",
    "layout = dict(\n",
    "        title = 'Earthquake magnitudes in {} - {}'.format(min(eq_other_freq['Year']),max(eq_other_freq['Year'])),\n",
    "        colorbar = True,   \n",
    "        geo = dict(\n",
    "            scope='usa',\n",
    "            projection=dict(type='albers usa',scale=7),\n",
    "            showland = True,\n",
    "            landcolor = \"rgb(250, 250, 250)\",\n",
    "            subunitcolor = \"rgb(102, 102, 102)\",\n",
    "            countrycolor = \"rgb(102, 102, 102)\",\n",
    "            countrywidth = 0.5,\n",
    "            subunitwidth = 0.5        \n",
    "        ),\n",
    "    )\n",
    "\n",
    "fig = dict( data=data, layout=layout )\n",
    "py.iplot( fig, validate=False, filename='d3-earthquakes2006-10' )"
   ]
  },
  {
   "cell_type": "code",
   "execution_count": 15,
   "metadata": {
    "collapsed": false
   },
   "outputs": [
    {
     "data": {
      "text/html": [
       "<iframe id=\"igraph\" scrolling=\"no\" style=\"border:none;\" seamless=\"seamless\" src=\"https://plot.ly/~eshishir/18.embed\" height=\"525px\" width=\"100%\"></iframe>"
      ],
      "text/plain": [
       "<plotly.tools.PlotlyDisplay object>"
      ]
     },
     "execution_count": 15,
     "metadata": {},
     "output_type": "execute_result"
    }
   ],
   "source": [
    "eq_other_freq = eq_data_other.replace('NaN',0)\n",
    "\n",
    "eq_other_freq['Year'] = pd.DatetimeIndex(eq_other_freq['DateTime']).year\n",
    "\n",
    "eq_other_freq = eq_other_freq[eq_other_freq['Year'] > 2010]\n",
    "eq_other_freq = eq_other_freq[eq_other_freq['Year'] <= 2015]\n",
    "\n",
    "import plotly.plotly as py\n",
    "import pandas as pd\n",
    "\n",
    "df = eq_other_freq\n",
    "df.head()\n",
    "\n",
    "df['text'] = df['DateTime'].astype(str) + \" \" + df['Magnitude'].astype(str)\n",
    "\n",
    "scl = [ [0,\"rgb(172, 10, 5)\"],[0.35,\"rgb(190, 60, 40)\"],[0.5,\"rgb(245, 100, 70)\"],\\\n",
    "    [0.6,\"rgb(245, 120, 90)\"],[0.7,\"rgb(247, 137, 106)\"],[1,\"rgb(220, 220, 220)\"] ]\n",
    "\n",
    "data = [ dict(\n",
    "        type = 'scattergeo',\n",
    "        locationmode = 'USA-states',\n",
    "        lon = df['Longitude'],\n",
    "        lat = df['Latitude'],\n",
    "        text = df['text'],\n",
    "        mode = 'markers',\n",
    "        marker = dict( \n",
    "            size = 8, \n",
    "            opacity = 0.8,\n",
    "            reversescale = True,\n",
    "            autocolorscale = False,\n",
    "            symbol = 'square',\n",
    "            line = dict(\n",
    "                width=1,\n",
    "                color='rgba(102, 102, 102)'\n",
    "            ),\n",
    "            colorscale = scl,\n",
    "            cmin = 0,\n",
    "            color = df['Magnitude'],\n",
    "            cmax = df['Magnitude'].max(),\n",
    "            colorbar=dict(\n",
    "                title=\"Magnitude of Earthquake\"\n",
    "            )\n",
    "        ))]\n",
    "\n",
    "layout = dict(\n",
    "        title = 'Earthquake magnitudes in {} - {}'.format(min(eq_other_freq['Year']),max(eq_other_freq['Year'])),\n",
    "        colorbar = True,   \n",
    "        geo = dict(\n",
    "            scope='usa',\n",
    "            projection=dict(type='albers usa',scale=7),\n",
    "            showland = True,\n",
    "            landcolor = \"rgb(250, 250, 250)\",\n",
    "            subunitcolor = \"rgb(102, 102, 102)\",\n",
    "            countrycolor = \"rgb(102, 102, 102)\",\n",
    "            countrywidth = 0.5,\n",
    "            subunitwidth = 0.5        \n",
    "        ),\n",
    "    )\n",
    "\n",
    "fig = dict( data=data, layout=layout )\n",
    "py.iplot( fig, validate=False, filename='d3-earthquakes2011-15' )"
   ]
  }
 ],
 "metadata": {
  "kernelspec": {
   "display_name": "Python 2",
   "language": "python",
   "name": "python2"
  },
  "language_info": {
   "codemirror_mode": {
    "name": "ipython",
    "version": 2
   },
   "file_extension": ".py",
   "mimetype": "text/x-python",
   "name": "python",
   "nbconvert_exporter": "python",
   "pygments_lexer": "ipython2",
   "version": "2.7.11"
  }
 },
 "nbformat": 4,
 "nbformat_minor": 0
}
